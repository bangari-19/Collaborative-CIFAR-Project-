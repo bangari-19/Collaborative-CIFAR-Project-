{
 "cells": [
  {
   "cell_type": "code",
   "execution_count": null,
   "id": "b45c16b1",
   "metadata": {},
   "outputs": [],
   "source": [
    "import numpy as np\n",
    "from numpy.linalg import inv\n",
    "import matplotlib.pyplot as plt\n",
    "import random\n",
    "import os\n",
    "from scipy.stats import norm"
   ]
  },
  {
   "cell_type": "code",
   "execution_count": null,
   "id": "9a1d1467",
   "metadata": {},
   "outputs": [],
   "source": [
    "dir='/Users/reneehlozek/Code/CIFAR_Network/GIMME/GIMME_analyses/CleanedGIMMEData/'\n",
    "num='01'\n",
    "data = np.loadtxt(dir+'Control_group_output/individual/'+'10'+num+'Betas.csv', skiprows=1, usecols=range(1,9), delimiter=',')\n",
    "A = data[:,4:] #same day beta values, (4x4)\n",
    "B = data[:,:4] #lagged beta values\n",
    "VR, SS, ANX, INT = np.genfromtxt(dir+'Control_Group/10'+num+'.txt', skip_header=1, unpack=True)\n",
    "length=75\n",
    "\n",
    "var_vr, mean_vr = np.nanvar(VR), np.nanmean(VR)  \n",
    "var_ss, mean_ss = np.nanvar(SS), np.nanmean(SS)\n",
    "var_anx, mean_anx = np.nanvar(ANX), np.nanmean(ANX)\n",
    "var_int, mean_int = np.nanvar(INT), np.nanmean(INT) "
   ]
  },
  {
   "cell_type": "markdown",
   "id": "5655bcc6",
   "metadata": {},
   "source": [
    "## Indicator matrix equation \n",
    "We want to compute the value of the indicators (combined into a vector $M$) as a function of contemporaneous matrix A and lagged matrix B for each person. This simplifies to:\n",
    "$M[t] = (I-A)^{-1}BM[t-1] + C$\n",
    "\n",
    "Note that the multiplication is matrix multiplication, we can't use dot products here."
   ]
  },
  {
   "cell_type": "code",
   "execution_count": null,
   "id": "5e036bf8",
   "metadata": {},
   "outputs": [],
   "source": [
    "M = np.zeros((length,4))\n",
    "t = np.arange(0,length) \n",
    "#pick our starting M\n",
    "C = np.array([var_vr, var_ss,var_anx,var_int])\n",
    "M[0,:] = np.array([mean_vr, mean_ss, mean_anx, mean_int])+ np.random.randn(4)*C\n",
    "# Compute our covariance matrix C from the std of the chains\n",
    "print(C)\n",
    "# now for each day, we compute the matrix multiplication from the day before\n",
    "for r in range(1,np.shape(M)[0]):   \n",
    "    M[r]=np.matmul(np.matmul(np.linalg.inv(np.eye(4)-A),B),M[r-1])     #+ np.matmul(np.linalg.inv(np.eye(4)-A),np.dot(np.random.randn(4),C)) + np.array([mean_vr, mean_ss, mean_anx, mean_int])\n",
    "    M[r]+=np.random.randn(4)*C\n",
    "\n",
    "M[:,:]+=  np.array([mean_vr, mean_ss, mean_anx, mean_int])\n",
    "print(M[0,1])\n",
    "plt.figure(3)\n",
    "plt.plot(t,VR,  color='purple',label='VR data', linestyle='--')\n",
    "plt.plot(t, SS, color='teal',label='SS data', linestyle='--')\n",
    "plt.plot(t,ANX, color='orange',label='ANX data', linestyle='--')\n",
    "plt.plot(t,INT, color='gray', label='INT data', linestyle='--')\n",
    "leg=plt.legend()\n",
    "print('var sim', 'var_data')\n",
    "print(np.var(M[:,0]),var_vr, 'VR')\n",
    "print(np.var(M[:,1]),var_ss, 'SS')\n",
    "print(np.var(M[:,2]),var_anx, 'ANX')\n",
    "print(np.var(M[:,3]),var_int, 'INT')"
   ]
  },
  {
   "cell_type": "code",
   "execution_count": null,
   "id": "a37603fa",
   "metadata": {},
   "outputs": [],
   "source": [
    "#clipping VR (0-5)\n",
    "\n",
    "indices = np.where(M[:,0]<0)[0]\n",
    "M[indices,0] = 0\n",
    "indices = np.where(M[:,0]>5)[0]\n",
    "M[indices,0] = 5\n",
    "\n",
    "for i in range(1,4):\n",
    "#clipping other variables (1-5)\n",
    "    indices = np.where(M[:,i]<1)[0]\n",
    "    M[indices,i] = 1\n",
    "    indices = np.where(M[:,i]>5)[0]\n",
    "    M[indices,i] = 5"
   ]
  },
  {
   "cell_type": "code",
   "execution_count": null,
   "id": "3553acab",
   "metadata": {},
   "outputs": [],
   "source": [
    "plt.figure(2, figsize=(10,6))\n",
    "\n",
    "\n",
    "plt.plot(t,M[:,0], color='purple',label='VR sim')\n",
    "plt.plot(t,VR,  color='purple',label='VR data', linestyle='--')\n",
    "plt.plot(t,M[:,1], color='teal',label='SS sim')\n",
    "plt.plot(t, SS, color='teal',label='SS data', linestyle='--')\n",
    "leg=plt.legend()\n",
    "plt.figure(3, figsize=(10,6))\n",
    "plt.plot(t,M[:,2], color='orange',label='ANX sim')\n",
    "plt.plot(t,ANX, color='orange',label='ANX data', linestyle='--')\n",
    "plt.plot(t,M[:,3], color='gray', label='INT sim')\n",
    "plt.plot(t,INT, color='gray', label='INT data', linestyle='--')\n",
    "leg=plt.legend()"
   ]
  },
  {
   "cell_type": "code",
   "execution_count": null,
   "id": "585c3dd2",
   "metadata": {},
   "outputs": [],
   "source": []
  }
 ],
 "metadata": {
  "kernelspec": {
   "display_name": "Python 3",
   "language": "python",
   "name": "python3"
  },
  "language_info": {
   "codemirror_mode": {
    "name": "ipython",
    "version": 3
   },
   "file_extension": ".py",
   "mimetype": "text/x-python",
   "name": "python",
   "nbconvert_exporter": "python",
   "pygments_lexer": "ipython3",
   "version": "3.8.8"
  }
 },
 "nbformat": 4,
 "nbformat_minor": 5
}

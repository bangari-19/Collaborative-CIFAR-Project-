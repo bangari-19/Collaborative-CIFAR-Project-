{
 "cells": [
  {
   "cell_type": "code",
   "execution_count": 1,
   "id": "d9d39fb2",
   "metadata": {},
   "outputs": [],
   "source": [
    "import numpy as np\n",
    "from numpy.linalg import inv\n",
    "import matplotlib.pyplot as plt\n",
    "import random\n",
    "import os\n",
    "\n",
    "params = {'figure.titlesize': 20,\n",
    "          'axes.grid': True,\n",
    "          'axes.labelsize': 10,\n",
    "          'axes.titlesize': 12,\n",
    "          'axes.linewidth': 1.5,\n",
    "          'xtick.minor.visible': True,\n",
    "          'xtick.major.width': 1.5,\n",
    "          'xtick.direction': 'in',\n",
    "          'ytick.direction': 'in',\n",
    "          'xtick.major.size': 7,\n",
    "          'xtick.minor.size': 5,\n",
    "          'xtick.labelsize': 10,\n",
    "          'ytick.minor.visible': True,\n",
    "          'ytick.major.width': 1.5,\n",
    "          'ytick.major.size': 7,\n",
    "          'ytick.minor.size': 5,\n",
    "          'ytick.labelsize': 10,\n",
    "          'legend.fontsize': 10,\n",
    "          'legend.labelspacing': 0.3,\n",
    "          'font.family': 'sans-serif'}\n",
    "\n",
    "plt.rcParams.update(params)"
   ]
  },
  {
   "cell_type": "markdown",
   "id": "ff49b43b",
   "metadata": {},
   "source": [
    "# Error structures"
   ]
  },
  {
   "cell_type": "code",
   "execution_count": 3,
   "id": "d19ad420",
   "metadata": {},
   "outputs": [],
   "source": [
    "path = os.getcwd()\n",
    "\n",
    "def get_error(VR, SS, ANX, INT, scale, alpha, error_type):\n",
    "    \"Return the error structure specified by error_type. error_type can be 'simple', 'AR1' or 'compound'.\\\n",
    "     If simple error then set alpha = 0, if AR1 or compound error then set scale = 0.\"\n",
    "    \n",
    "    var_vr = np.nanvar(VR)  \n",
    "    var_ss = np.nanvar(SS)\n",
    "    var_anx = np.nanvar(ANX)\n",
    "    var_int = np.nanvar(INT)\n",
    "    std_vr, std_ss, std_anx, std_int = np.sqrt(var_vr), np.sqrt(var_ss), np.sqrt(var_anx), np.sqrt(var_int)\n",
    "    \n",
    "    #simple \n",
    "    simple_error = scale*np.random.randn(4)*np.array([var_vr, var_ss, var_anx, var_int])\n",
    "    \n",
    "    #AR1\n",
    "    AR1_cov = np.zeros((4,4))\n",
    "    AR1_cov[0, 0], AR1_cov[1, 1], AR1_cov[2, 2], AR1_cov[3, 3] = var_vr, var_ss, var_anx, var_int #diagonal 0\n",
    "    AR1_cov[0, 1], AR1_cov[1, 2], AR1_cov[2, 3] = alpha*np.array([std_vr*std_ss, std_ss*std_anx, std_anx*std_int]) #diagonal 1\n",
    "    AR1_cov[1, 0], AR1_cov[2, 1], AR1_cov[3, 2] = AR1_cov[0, 1], AR1_cov[1, 2], AR1_cov[2, 3]\n",
    "    AR1_cov[0, 2], AR1_cov[1, 3] = alpha**2*np.array([std_vr*std_anx, std_ss*std_int]) #diagonal 2\n",
    "    AR1_cov[2, 0], AR1_cov[3, 1] = AR1_cov[0, 2], AR1_cov[1, 3]\n",
    "    AR1_cov[0, 3] = AR1_cov[3, 0] = alpha**3*(std_vr*std_int) #diagonal 3\n",
    "    \n",
    "    #compound \n",
    "    cov = np.zeros((4,4))\n",
    "    cov[0, 0], cov[1, 1], cov[2, 2], cov[3, 3] = var_vr, var_ss, var_anx, var_int #diagonal 0\n",
    "    cov[0, 1], cov[1, 2], cov[2, 3] = alpha*np.array([std_vr*std_ss, std_ss*std_anx, std_anx*std_int]) #diagonal 1\n",
    "    cov[1, 0], cov[2, 1], cov[3, 2] = cov[0, 1], cov[1, 2], cov[2, 3]\n",
    "    cov[0, 2], cov[1, 3] = alpha*np.array([std_vr*std_anx, std_ss*std_int]) #diagonal 2\n",
    "    cov[2, 0], cov[3, 1] = cov[0, 2], cov[1, 3]\n",
    "    cov[0, 3] = cov[3, 0] = alpha*(std_vr*std_int) #diagonal 3\n",
    "    \n",
    "    if error_type == 'simple': \n",
    "        return simple_error\n",
    "    elif error_type == 'AR1':\n",
    "        return AR1_cov \n",
    "    else: \n",
    "        return cov"
   ]
  },
  {
   "cell_type": "code",
   "execution_count": 4,
   "id": "39aac008",
   "metadata": {},
   "outputs": [],
   "source": [
    "def get_matrix(ind, contemp_coeff, lagged_coeff, scale, alpha, error_type):\n",
    "    \"Return simulated data of VR, SS, ANX and INT in 75x4 matrix for individual ind with error structure\\\n",
    "     specified by error_type.\"\n",
    "    \n",
    "    dir=\"GIMME analyses/Cleaned GIMME Data/\" \n",
    "    VR, SS, ANX, INT = np.genfromtxt(dir+'Control_Group/10'+ind+'.txt', skip_header=1, unpack=True)\n",
    "    var_vr, mean_vr = np.nanvar(VR), np.nanmean(VR)  \n",
    "    var_ss, mean_ss = np.nanvar(SS), np.nanmean(SS)\n",
    "    var_anx, mean_anx = np.nanvar(ANX), np.nanmean(ANX)\n",
    "    var_int, mean_int = np.nanvar(INT), np.nanmean(INT)\n",
    "    \n",
    "    length = 75\n",
    "    M = np.zeros((length,4))\n",
    "    t = np.arange(0,length) \n",
    "    C = get_error(VR, SS, ANX, INT, scale, alpha, error_type)\n",
    "    M[0,:] = np.array([mean_vr, mean_ss, mean_anx, mean_int]) + C\n",
    "\n",
    "    #M[r] = (I-A)^-1 * B * M[r-1] + noise + mean \n",
    "    for r in range(1,length):   \n",
    "        M[r] = np.matmul(np.matmul(np.linalg.inv(np.eye(4)-contemp_coeff),lagged_coeff),M[r-1])     \n",
    "        M[r] += C\n",
    "    M[:,:] += np.array([mean_vr, mean_ss, mean_anx, mean_int])\n",
    "\n",
    "    return M"
   ]
  },
  {
   "cell_type": "markdown",
   "id": "95b048f9",
   "metadata": {},
   "source": [
    "# Covaraince matrices heatmaps"
   ]
  },
  {
   "cell_type": "code",
   "execution_count": 5,
   "id": "4c710b93",
   "metadata": {},
   "outputs": [
    {
     "data": {
      "image/png": "[encoded data removed]",
      "text/plain": [
       "<Figure size 576x432 with 2 Axes>"
      ]
     },
     "metadata": {
      "needs_background": "light"
     },
     "output_type": "display_data"
    }
   ],
   "source": [
    "#example \n",
    "\n",
    "dir=\"GIMME analyses/Cleaned GIMME Data/\" \n",
    "VR, SS, ANX, INT = np.genfromtxt(dir+'Control_Group/1001.txt', skip_header=1, unpack=True)\n",
    "AR1_cov = get_error(VR, SS, ANX, INT, 0, 0.1, 'AR1')\n",
    "\n",
    "import seaborn as sns\n",
    "\n",
    "labels = ['VR', 'SS', 'ANX', 'INT']\n",
    "\n",
    "plt.figure(figsize=(8,6))\n",
    "sns.heatmap(AR1_cov, annot=True, fmt='g', xticklabels=labels, yticklabels=labels, cmap='YlGnBu')\n",
    "plt.show()"
   ]
  },
  {
   "cell_type": "markdown",
   "id": "fd7ceaab",
   "metadata": {},
   "source": [
    "# Scaled noise and changed matrix"
   ]
  },
  {
   "cell_type": "markdown",
   "id": "4247b2fc",
   "metadata": {},
   "source": [
    "The code below generates 10 sets of simulated data with each set containing simulated data of VR, SS, ANX, INT for 13 individuals. If <code>change_matrix_coeff = True</code> then the SS and VR coefficients are exchanged in individual 1's coefficient matrix only and data is generated with scale 1 simple noise. If <code>change_matrix_coeff = False</code> then all coefficient matrices remain unchanged however data is generated with scaled simple noise (e.g scale 2, 10 or 100).  "
   ]
  },
  {
   "cell_type": "code",
   "execution_count": null,
   "id": "9556cf1f",
   "metadata": {},
   "outputs": [],
   "source": [
    "numbers = ['01','02','03','04','05','06','07','08','09','10','11','12','13']\n",
    "length = 75\n",
    "change_matrix_coeff = True\n",
    "dir = path + '/GIMME analyses/Cleaned GIMME Data/'\n",
    "\n",
    "for rep in range(1,11): #10 sets \n",
    "    for num in numbers:\n",
    "        data = np.loadtxt(dir+'Control_group_output/individual/10'+num+'Betas.csv', skiprows=1, usecols=range(1,9), delimiter=',')\n",
    "        A = data[:,4:] #contemp coeff, (4x4)\n",
    "        B = data[:,:4] #lagged coeff\n",
    "        \n",
    "        if change_matrix_coeff:\n",
    "            scale = 1\n",
    "            if num == '01':\n",
    "                A_changed = np.copy(A)\n",
    "                A_changed[1, 0] = A_changed[0, 1] #switch SS --> VR to VR --> SS\n",
    "                A_changed[0, 1] = 0\n",
    "            \n",
    "                M = get_matrix(num, A_changed, B, scale, 0, 'simple')\n",
    "\n",
    "                np.savetxt(path+'/Change_matrix_coeff/rep_'+str(rep)+'/ind_'+str(int(num))+'.txt', \n",
    "                           M, delimiter=',', header='VR,SS,ANX,INT', comments='')\n",
    "                \n",
    "            M = get_matrix(num, A, B, scale, 0, 'simple')\n",
    "            np.savetxt(path+'/Change_matrix_coeff/rep_'+str(rep)+'/ind_'+str(int(num))+'.txt', \n",
    "                       M, delimiter=',', header='VR,SS,ANX,INT', comments='')\n",
    "        else:\n",
    "            scale = 2\n",
    "            M = get_matrix(num, A, B, scale, 0, 'simple')\n",
    "            np.savetxt(path+'/Scale_'+str(scale)+'_noise/rep_'+str(rep)+'/ind_'+str(int(num))+'.txt', \n",
    "                       M, delimiter=',', header='VR,SS,ANX,INT', comments='')"
   ]
  },
  {
   "cell_type": "markdown",
   "id": "b5bb58c3",
   "metadata": {},
   "source": [
    "# Covariance structures"
   ]
  },
  {
   "cell_type": "markdown",
   "id": "5579e3d8",
   "metadata": {},
   "source": [
    "Two covaraince structures are used: AR(1): Heterogenous and Compound symmetry: Heterogenous. We use $\\alpha = 0.01, 0.1, 0.5$. "
   ]
  },
  {
   "cell_type": "code",
   "execution_count": null,
   "id": "995dbeba",
   "metadata": {},
   "outputs": [],
   "source": [
    "#AR1\n",
    "\n",
    "for alpha in [0.01, 0.1, 0.5]:\n",
    "    for rep in range(1,11):  \n",
    "        for num in numbers:\n",
    "            data = np.loadtxt(dir+'Control_group_output/individual/10'+num+'Betas.csv', skiprows=1, usecols=range(1,9), delimiter=',')\n",
    "            A = data[:,4:] \n",
    "            B = data[:,:4] \n",
    "            \n",
    "            M = get_matrix(num, A, B, 0, alpha, 'AR1')\n",
    "\n",
    "            np.savetxt(path+'/AR1_Heterogenous/AR1_'+str(alpha)+'/rep_'+str(rep)+'/ind_'+str(int(num))+'.txt', \n",
    "                       M, delimiter=',', header='VR,SS,ANX,INT', comments='')"
   ]
  },
  {
   "cell_type": "code",
   "execution_count": null,
   "id": "a55b3b80",
   "metadata": {},
   "outputs": [],
   "source": [
    "#Compound \n",
    "\n",
    "for alpha in [0.01, 0.1, 0.5]:\n",
    "    for rep in range(1,11):  \n",
    "        for num in numbers:\n",
    "            data = np.loadtxt(dir+'Control_group_output/individual/10'+num+'Betas.csv', skiprows=1, usecols=range(1,9), delimiter=',')\n",
    "            A = data[:,4:] \n",
    "            B = data[:,:4] \n",
    "            \n",
    "            M = get_matrix(num, A, B, 0, alpha, 'AR1')\n",
    "\n",
    "            np.savetxt(path+'/Change_matrix_coeff/rep_'+str(rep)+'/ind_'+str(int(num))+'.txt', \n",
    "                       M, delimiter=',', header='VR,SS,ANX,INT', comments='')"
   ]
  },
  {
   "cell_type": "markdown",
   "id": "2d6b2470",
   "metadata": {},
   "source": [
    "# Plots"
   ]
  },
  {
   "cell_type": "code",
   "execution_count": null,
   "id": "58e43c41",
   "metadata": {},
   "outputs": [],
   "source": [
    "# Simulated and emperical data \n",
    "\n",
    "rep = 1\n",
    "scale = 100\n",
    "plt.figure(figsize=(15, 20))\n",
    "plt.suptitle(\"Simulated and Emperical Data\")\n",
    "\n",
    "for num in numbers[:7]:\n",
    "    \n",
    "    VR, SS, ANX, INT = np.genfromtxt(dir+'Control_Group/10'+num+'.txt', skip_header=1, unpack=True)\n",
    "\n",
    "    vr, ss, anx, intt = np.loadtxt(path+'/Scale_'+str(scale)+'_noise/rep_'+str(rep)+'/ind_'+str(int(num))+'.txt', skiprows=1, delimiter=',', unpack=True)\n",
    "    \n",
    "    # plot VR, SS\n",
    "    ax1 = plt.subplot(13, 2, 2*int(num) - 1)\n",
    "    #ax1.set_figure(figsize=(8,6))\n",
    "    ax1.plot(t, VR, label='VR', linestyle='-', color='purple')\n",
    "    ax1.plot(t, vr, label='vr sim', linestyle='--', color='purple')\n",
    "    ax1.plot(t, SS, label='SS', linestyle='-', color='teal')\n",
    "    ax1.plot(t, ss, label='ss sim', linestyle='--', color='teal')\n",
    "    ax1.set_xlabel('Time [day]')\n",
    "    ax1.set_ylabel('Marker')\n",
    "    ax1.set_title('Individual '+str(int(num)))\n",
    "    if num == numbers[0]:\n",
    "        ax1.set_title('Individual '+str(int(num))+' VR and SS')\n",
    "        ax1.legend()\n",
    "        \n",
    "    \n",
    "    # plot ANX, INT\n",
    "    ax2 = plt.subplot(13, 2, 2*int(num))\n",
    "    #ax2.set_figure(figsize=(8,6))\n",
    "    ax2.plot(t, INT, label='INT', linestyle='-', color='orange')\n",
    "    ax2.plot(t, intt, label='int sim', linestyle='--', color='orange')\n",
    "    ax2.plot(t, ANX, label='ANX', linestyle='-', color='gray')\n",
    "    ax2.plot(t, anx, label='anx sim', linestyle='--', color='gray')\n",
    "    ax2.set_xlabel('Time [day]')\n",
    "    ax2.set_ylabel('Marker')\n",
    "    if num == numbers[0]:\n",
    "        ax1.set_title('INT and ANX')\n",
    "        ax2.legend()\n",
    "        \n",
    "plt.tight_layout()"
   ]
  },
  {
   "cell_type": "code",
   "execution_count": null,
   "id": "328deb1b",
   "metadata": {
    "scrolled": false
   },
   "outputs": [],
   "source": [
    "#Emperical data \n",
    "\n",
    "path = 'GIMME analyses/Cleaned GIMME Data/Control_Group'\n",
    "for file in os.listdir(path): \n",
    "    VR, SS, ANX, INT = np.genfromtxt(path+'/'+file, skip_header=1, unpack=True) #'nan' values assigned 0? \n",
    "    plt.figure(figsize=(8,6))\n",
    "    plt.plot(t, VR, label='VR', linestyle='-', color='purple')\n",
    "    plt.plot(t, SS, label='SS', linestyle='-', color='teal')\n",
    "    plt.plot(t, ANX, label='ANX', linestyle='--', color='orange')\n",
    "    plt.plot(t, INT, label='INT', linestyle='--', color='gray')\n",
    "    plt.legend()\n",
    "    plt.xlabel('Times [day]')\n",
    "    plt.ylabel('Marker')\n",
    "    plt.title('Individual '+file[2:4])"
   ]
  }
 ],
 "metadata": {
  "kernelspec": {
   "display_name": "Python 3 (ipykernel)",
   "language": "python",
   "name": "python3"
  },
  "language_info": {
   "codemirror_mode": {
    "name": "ipython",
    "version": 3
   },
   "file_extension": ".py",
   "mimetype": "text/x-python",
   "name": "python",
   "nbconvert_exporter": "python",
   "pygments_lexer": "ipython3",
   "version": "3.8.5"
  }
 },
 "nbformat": 4,
 "nbformat_minor": 5
}

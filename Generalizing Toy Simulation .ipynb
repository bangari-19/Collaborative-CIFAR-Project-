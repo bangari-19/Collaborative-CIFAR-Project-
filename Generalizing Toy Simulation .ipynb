{
 "cells": [
  {
   "cell_type": "code",
   "execution_count": 1,
   "id": "b45c16b1",
   "metadata": {},
   "outputs": [],
   "source": [
    "import numpy as np\n",
    "from numpy.linalg import inv\n",
    "import matplotlib.pyplot as plt\n",
    "import random"
   ]
  },
  {
   "cell_type": "code",
   "execution_count": 4,
   "id": "f0102d9d",
   "metadata": {},
   "outputs": [],
   "source": [
    "path = '/Users/reneehlozek/Code/CIFAR_Network/GIMME/GIMME_analyses/CleanedGIMMEData/Control_group_output/individual/'\n",
    "data = np.loadtxt(path+'1001Betas.csv', skiprows=1, usecols=range(1,9), delimiter=',')\n",
    "B = data[:,:4] \n",
    "A = data[:,4:]"
   ]
  },
  {
   "cell_type": "code",
   "execution_count": 5,
   "id": "faca737f",
   "metadata": {},
   "outputs": [
    {
     "data": {
      "text/plain": [
       "array([[0.    , 0.2215, 0.    , 0.    ],\n",
       "       [0.    , 0.    , 0.    , 0.    ],\n",
       "       [0.    , 0.    , 0.    , 0.    ],\n",
       "       [0.    , 0.    , 0.    , 0.    ]])"
      ]
     },
     "execution_count": 5,
     "metadata": {},
     "output_type": "execute_result"
    }
   ],
   "source": [
    "A"
   ]
  },
  {
   "cell_type": "code",
   "execution_count": 6,
   "id": "2e340dab",
   "metadata": {},
   "outputs": [
    {
     "data": {
      "text/plain": [
       "array([[0.    , 0.    , 0.    , 0.2504],\n",
       "       [0.    , 0.3528, 0.    , 0.    ],\n",
       "       [0.    , 0.    , 0.319 , 0.227 ],\n",
       "       [0.    , 0.    , 0.    , 0.    ]])"
      ]
     },
     "execution_count": 6,
     "metadata": {},
     "output_type": "execute_result"
    }
   ],
   "source": [
    "B"
   ]
  },
  {
   "cell_type": "code",
   "execution_count": 7,
   "id": "fb934e16",
   "metadata": {},
   "outputs": [
    {
     "data": {
      "text/plain": [
       "array([[0.05923972, 0.28876457, 0.12909153, 0.53625699]])"
      ]
     },
     "execution_count": 7,
     "metadata": {},
     "output_type": "execute_result"
    }
   ],
   "source": [
    "#Testing Y = [BY'+C][I-A]^-1 for individual 1\n",
    "A = np.zeros((4,4))\n",
    "A[1,2] = 0.2215\n",
    "B = np.zeros((4,4))\n",
    "B[1,0], B[2,2], B[3,0], B[3,3] = 0.2504, 0.3528, 0.227, 0.319 \n",
    "C = np.array([[np.sqrt(0.01)*np.random.randn()],\n",
    "              [np.sqrt(0.01)*np.random.randn()],\n",
    "              [np.sqrt(0.01)*np.random.randn()],\n",
    "              [np.sqrt(0.01)*np.random.randn()]])\n",
    "Y_lagged = np.ones((4,1))\n",
    "Y = np.dot((np.transpose(np.dot(B, Y_lagged)+C)),np.identity(4)-A)\n",
    "Y #vr,ss,anx,int"
   ]
  },
  {
   "cell_type": "code",
   "execution_count": null,
   "id": "06f9a1c8",
   "metadata": {},
   "outputs": [],
   "source": [
    "#load beta values from csv file \n",
    "#construct A, B matrices\n",
    "#initialize M = 76x4 zeroes matrix \n",
    "#for row in M: \n",
    "    #M[row] = lagged variables \n",
    "    #Compute Y\n",
    "    #M[row+1] = Y"
   ]
  },
  {
   "cell_type": "code",
   "execution_count": 9,
   "id": "eb777745",
   "metadata": {},
   "outputs": [],
   "source": [
    "#load beta values from gimme output files and construct matrices A and B\n",
    "\n",
    "numbers = ['01','02','03','04','05','06','07','08','09','10','11','12','13']\n",
    "path = '/Users/reneehlozek/Code/CIFAR_Network/GIMME/GIMME_analyses/CleanedGIMMEData/Control_group_output/individual/'\n",
    "for num in numbers:\n",
    "    data = np.loadtxt(path+'10'+num+'Betas.csv', skiprows=1, usecols=range(1,9), delimiter=',')\n",
    "    A = data[:,4:] #same day beta values\n",
    "    B = data[:,:4] #lagged beta values\n",
    "    \n",
    "    M = np.zeros((76,4)) #store data into M \n",
    "    M[0] = np.ones((1,4)) #day 1 data same for all\n",
    "    \n",
    "    var_vr, var_ss, var_anx, var_int = 0.01, 0.01, 0.01, 0.01        \n",
    "    times=np.arange(0,76)\n",
    "    t = times[0:-1] #[0,...,74]\n",
    "    \n",
    "    for day in t: #updating each row in M\n",
    "        \n",
    "        C = np.array([[np.sqrt(var_vr)*np.random.randn()],\n",
    "                      [np.sqrt(var_ss)*np.random.randn()],\n",
    "                      [np.sqrt(var_anx)*np.random.randn()],\n",
    "                      [np.sqrt(var_int)*np.random.randn()]])\n",
    "        \n",
    "        Y_lagged = np.reshape(M[day], (4,1)) #same day vr,ss,anx,int\n",
    "        Y = np.dot((np.transpose(np.dot(B, Y_lagged)+C)),np.identity(4)-A) #next day vr,ss,anx,int\n",
    "        M[day+1] = Y \n",
    "    \n",
    "    np.savetxt('individual 10'+num, M[1:], delimiter=',', header='VR,SS,ANX,INT')"
   ]
  },
  {
   "cell_type": "code",
   "execution_count": 20,
   "id": "5aa9dcb8",
   "metadata": {},
   "outputs": [
    {
     "data": {
      "text/plain": [
       "[17, 8, 4, 2, 10]"
      ]
     },
     "execution_count": 20,
     "metadata": {},
     "output_type": "execute_result"
    }
   ],
   "source": [
    "import random\n",
    "randomlist = random.sample(range(1, 22), 5)\n",
    "randomlist"
   ]
  },
  {
   "cell_type": "code",
   "execution_count": null,
   "id": "c4ad617a",
   "metadata": {},
   "outputs": [],
   "source": []
  }
 ],
 "metadata": {
  "kernelspec": {
   "display_name": "Python 3",
   "language": "python",
   "name": "python3"
  },
  "language_info": {
   "codemirror_mode": {
    "name": "ipython",
    "version": 3
   },
   "file_extension": ".py",
   "mimetype": "text/x-python",
   "name": "python",
   "nbconvert_exporter": "python",
   "pygments_lexer": "ipython3",
   "version": "3.8.8"
  }
 },
 "nbformat": 4,
 "nbformat_minor": 5
}
